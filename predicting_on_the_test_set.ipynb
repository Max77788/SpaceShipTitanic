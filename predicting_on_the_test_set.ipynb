{
 "cells": [
  {
   "cell_type": "code",
   "execution_count": null,
   "id": "c1a304aa",
   "metadata": {},
   "outputs": [],
   "source": [
    "\n",
    "import pandas as pd\n",
    "import numpy as np\n",
    "import matplotlib.pyplot as plt\n",
    "from sklearn.model_selection import train_test_split\n",
    "from sklearn.metrics import accuracy_score, precision_score, recall_score, f1_score\n",
    "from sklearn.ensemble import GradientBoostingClassifier\n",
    "    "
   ]
  },
  {
   "cell_type": "code",
   "execution_count": null,
   "id": "4b244a7c",
   "metadata": {},
   "outputs": [],
   "source": [
    "\n",
    "# Load the dataset\n",
    "df = pd.read_csv(\"/mnt/data/test.csv\")\n",
    "    "
   ]
  },
  {
   "cell_type": "code",
   "execution_count": null,
   "id": "d6e6bd5f",
   "metadata": {},
   "outputs": [],
   "source": [
    "\n",
    "# Transformations based on provided code\n",
    "# (The code for all transformations and visualizations goes here)\n",
    "    "
   ]
  },
  {
   "cell_type": "code",
   "execution_count": null,
   "id": "29f9b2dc",
   "metadata": {},
   "outputs": [],
   "source": [
    "\n",
    "# Model training and evaluation\n",
    "data_train = pd.read_csv('/mnt/data/prepared_data_train.csv')\n",
    "data_train.drop('Transported_False', axis=1, inplace=True)\n",
    "X = data_train.drop('Transported_True', axis=1)\n",
    "y = data_train['Transported_True']\n",
    "X_train, X_test, y_train, y_test = train_test_split(X, y, test_size=0.25, random_state=42)\n",
    "clf = GradientBoostingClassifier()\n",
    "clf.fit(X_train, y_train)\n",
    "y_pred = clf.predict(X_test)\n",
    "accuracy = accuracy_score(y_test, y_pred)\n",
    "precision = precision_score(y_test, y_pred)\n",
    "recall = recall_score(y_test, y_pred)\n",
    "f1 = f1_score(y_test, y_pred)\n",
    "    "
   ]
  },
  {
   "cell_type": "code",
   "execution_count": null,
   "id": "7a56d796",
   "metadata": {},
   "outputs": [],
   "source": [
    "\n",
    "# Predicting on a new dataset\n",
    "original_df = pd.read_csv(\"/mnt/data/test.csv\")\n",
    "passenger_id = original_df['PassengerId']\n",
    "result_df = pd.DataFrame({\n",
    "    'PassengerId': passenger_id,\n",
    "    'Transported': test_predictions\n",
    "})\n",
    "result_df['Transported'] = result_df['Transported'].map({1: 'True', 0: 'False'})\n",
    "    "
   ]
  }
 ],
 "metadata": {},
 "nbformat": 4,
 "nbformat_minor": 5
}
